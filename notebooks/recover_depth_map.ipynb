{
 "cells": [
  {
   "cell_type": "code",
   "execution_count": null,
   "id": "6748cb79",
   "metadata": {},
   "outputs": [],
   "source": [
    "%load_ext autoreload\n",
    "%autoreload 2"
   ]
  },
  {
   "cell_type": "code",
   "execution_count": null,
   "id": "e59fa2d0",
   "metadata": {},
   "outputs": [],
   "source": [
    "import torch\n",
    "from torch_scatter import scatter_mean\n",
    "import torchvision.transforms as T"
   ]
  },
  {
   "cell_type": "code",
   "execution_count": null,
   "id": "8c2e7e78",
   "metadata": {},
   "outputs": [],
   "source": [
    "import numpy as np\n",
    "import matplotlib.pyplot as plt"
   ]
  },
  {
   "cell_type": "code",
   "execution_count": null,
   "id": "2ccca353",
   "metadata": {},
   "outputs": [],
   "source": [
    "from datasets import MP3dPSP"
   ]
  },
  {
   "cell_type": "code",
   "execution_count": null,
   "id": "4d533e07",
   "metadata": {},
   "outputs": [],
   "source": [
    "torch.manual_seed(3985)\n",
    "ds = MP3dPSP('val')\n",
    "pilimg = T.ToPILImage()"
   ]
  },
  {
   "cell_type": "code",
   "execution_count": null,
   "id": "39ec6a5d",
   "metadata": {},
   "outputs": [],
   "source": [
    "x = ds[0][0]\n",
    "pilimg(x)"
   ]
  },
  {
   "cell_type": "code",
   "execution_count": null,
   "id": "c0499fea",
   "metadata": {},
   "outputs": [],
   "source": [
    "from numpy import pi as PI\n",
    "from patch_ops import TangentPatch, polar_coord_grid"
   ]
  },
  {
   "cell_type": "code",
   "execution_count": null,
   "id": "b059e020",
   "metadata": {},
   "outputs": [],
   "source": [
    "patch_dim = 16\n",
    "npatch = 1024\n",
    "fov = 2.0 * np.pi / np.ceil(np.sqrt(npatch * 1024.0 / 400.0))\n",
    "device = 'cuda:0'"
   ]
  },
  {
   "cell_type": "code",
   "execution_count": null,
   "id": "ba7d4dba",
   "metadata": {},
   "outputs": [],
   "source": [
    "theta, phi = polar_coord_grid(fov, patch_dim, npatch)\n",
    "theta, phi = map(lambda x: x.to(device), (theta, phi))\n",
    "tan_patch = TangentPatch(theta, phi).to(device)"
   ]
  },
  {
   "cell_type": "code",
   "execution_count": null,
   "id": "ecfc3701",
   "metadata": {},
   "outputs": [],
   "source": [
    "xb = x.to(device)\n",
    "patch = tan_patch(xb.unsqueeze(0)).squeeze(0)\n",
    "patch.shape"
   ]
  },
  {
   "cell_type": "code",
   "execution_count": null,
   "id": "a48dad52",
   "metadata": {},
   "outputs": [],
   "source": [
    "x_coord = (theta / PI + 1.0) * 1023 / 2.0\n",
    "y_coord = (-phi / PI + 0.5) * 399"
   ]
  },
  {
   "cell_type": "code",
   "execution_count": null,
   "id": "de08b904",
   "metadata": {},
   "outputs": [],
   "source": [
    "x_coord = x_coord.round().long()\n",
    "y_coord = y_coord.round().long()"
   ]
  },
  {
   "cell_type": "code",
   "execution_count": null,
   "id": "8f0b41df",
   "metadata": {},
   "outputs": [],
   "source": [
    "x_coord = x_coord.flatten(0, 1).unsqueeze(0)\n",
    "y_coord = y_coord.flatten(0, 1).unsqueeze(0)\n",
    "y_coord = scatter_mean(y_coord, x_coord, dim_size=1024)"
   ]
  },
  {
   "cell_type": "code",
   "execution_count": null,
   "id": "e0d491cd",
   "metadata": {
    "scrolled": false
   },
   "outputs": [],
   "source": [
    "patch_flat = patch.flatten(1, 2)"
   ]
  },
  {
   "cell_type": "code",
   "execution_count": null,
   "id": "05954b85",
   "metadata": {},
   "outputs": [],
   "source": [
    "patch_flat2 = scatter_mean(\n",
    "    patch_flat, x_coord.expand_as(patch_flat), dim_size=1024\n",
    ")"
   ]
  },
  {
   "cell_type": "code",
   "execution_count": null,
   "id": "bc2780a0",
   "metadata": {},
   "outputs": [],
   "source": [
    "patch_flat3 = scatter_mean(\n",
    "    patch_flat2, y_coord, dim_size=400, dim=-2\n",
    ")"
   ]
  },
  {
   "cell_type": "code",
   "execution_count": null,
   "id": "93fdad90",
   "metadata": {},
   "outputs": [],
   "source": [
    "pilimg(patch_flat3.to('cpu'))"
   ]
  },
  {
   "cell_type": "markdown",
   "id": "4da2f549",
   "metadata": {},
   "source": [
    "---"
   ]
  },
  {
   "cell_type": "code",
   "execution_count": null,
   "id": "861f7492",
   "metadata": {},
   "outputs": [],
   "source": [
    "import torch\n",
    "import numpy as np\n",
    "import torchvision.transforms as T\n",
    "from torch.utils.data import DataLoader\n",
    "from numpy import pi as PI"
   ]
  },
  {
   "cell_type": "code",
   "execution_count": null,
   "id": "11e9d39a",
   "metadata": {},
   "outputs": [],
   "source": [
    "torch.manual_seed(3985)\n",
    "pilimg = T.ToPILImage()"
   ]
  },
  {
   "cell_type": "code",
   "execution_count": null,
   "id": "73e60e65",
   "metadata": {},
   "outputs": [],
   "source": [
    "from datasets import MP3dPSP\n",
    "from patch_ops import TangentPatch, Scatter2D, polar_coord_grid"
   ]
  },
  {
   "cell_type": "code",
   "execution_count": null,
   "id": "475b2643",
   "metadata": {},
   "outputs": [],
   "source": [
    "ds = MP3dPSP('val')\n",
    "dl = DataLoader(ds, batch_size=4)"
   ]
  },
  {
   "cell_type": "code",
   "execution_count": null,
   "id": "b2c90850",
   "metadata": {},
   "outputs": [],
   "source": [
    "patch_dim = 16\n",
    "npatch = 864\n",
    "# fov = 2.0 * PI / np.ceil(np.sqrt(npatch * 1024.0 / 400.0))\n",
    "fov = 5.0 * PI / 180.0"
   ]
  },
  {
   "cell_type": "code",
   "execution_count": null,
   "id": "666f924d",
   "metadata": {},
   "outputs": [],
   "source": [
    "device = 'cuda:0'\n",
    "\n",
    "grid = polar_coord_grid(fov, patch_dim, npatch)\n",
    "x_grid, y_grid = map(lambda x: x.to(device), grid)\n",
    "\n",
    "tan_patch = TangentPatch(x_grid, y_grid).to(device)\n",
    "scatter2d = Scatter2D(x_grid, y_grid, 400, 1024).to(device)\n",
    "\n",
    "xb, _ = next(iter(dl))\n",
    "xb = xb.to(device)\n",
    "patch = tan_patch(xb).squeeze(0)\n",
    "patch_img = scatter2d(patch)\n",
    "\n",
    "pilimg(patch_img.to('cpu')[0, ...])"
   ]
  },
  {
   "cell_type": "code",
   "execution_count": null,
   "id": "02eb48cb",
   "metadata": {},
   "outputs": [],
   "source": [
    "pilimg(patch_img.to('cpu')[3, ...])"
   ]
  },
  {
   "cell_type": "markdown",
   "id": "e4f60f0b",
   "metadata": {},
   "source": [
    "---"
   ]
  },
  {
   "cell_type": "code",
   "execution_count": null,
   "id": "26a52394",
   "metadata": {},
   "outputs": [],
   "source": [
    "from tangent_patch import TangentPatch, create_polar_coord_grid"
   ]
  },
  {
   "cell_type": "code",
   "execution_count": null,
   "id": "95957c67",
   "metadata": {},
   "outputs": [],
   "source": [
    "patch_dim = 32\n",
    "npatch = 420\n",
    "fov = 2.0 * np.pi / np.sqrt(npatch * 1024.0 / 400.0)\n",
    "tan_patch = TangentPatch(fov, patch_dim, npatch)"
   ]
  },
  {
   "cell_type": "code",
   "execution_count": null,
   "id": "7f347b6f",
   "metadata": {},
   "outputs": [],
   "source": [
    "patch = tan_patch(x.unsqueeze(0)).squeeze(0)\n",
    "theta, phi = tan_patch.theta, tan_patch.phi"
   ]
  },
  {
   "cell_type": "code",
   "execution_count": null,
   "id": "e602fad1",
   "metadata": {},
   "outputs": [],
   "source": [
    "theta.shape, phi.shape"
   ]
  },
  {
   "cell_type": "code",
   "execution_count": null,
   "id": "0fb912ea",
   "metadata": {},
   "outputs": [],
   "source": [
    "# theta: [-pi, pi] -> [0, 1023], phi: [pi/2, -pi/2] -> [0, 399]\n",
    "x_coord = torch.round((theta / np.pi + 1.0) * 1023.0 / 2.0).long()\n",
    "y_coord = torch.round((-phi / np.pi + 0.5) * 399.0).long()"
   ]
  },
  {
   "cell_type": "code",
   "execution_count": null,
   "id": "1ccfddb8",
   "metadata": {},
   "outputs": [],
   "source": [
    "# x_coord = x_coord.unsqueeze(1)\n",
    "# y_coord = y_coord.unsqueeze(1)\n",
    "y_coord = scatter_mean(y_coord, x_coord)"
   ]
  },
  {
   "cell_type": "code",
   "execution_count": null,
   "id": "29648172",
   "metadata": {},
   "outputs": [],
   "source": [
    "x_coord.shape, y_coord.shape"
   ]
  },
  {
   "cell_type": "code",
   "execution_count": null,
   "id": "58290fa4",
   "metadata": {},
   "outputs": [],
   "source": [
    "patch2 = scatter_mean(patch, x_coord.expand_as(patch), dim_size=1024)\n",
    "patch3 = scatter_mean(patch2, y_coord.expand_as(patch2), dim=-2, dim_size=400)"
   ]
  },
  {
   "cell_type": "code",
   "execution_count": null,
   "id": "093fac4c",
   "metadata": {},
   "outputs": [],
   "source": [
    "patch4 = patch3.sum(dim=0) / (patch3 != 0).sum(dim=0)\n",
    "pilimg(patch4)"
   ]
  }
 ],
 "metadata": {
  "kernelspec": {
   "display_name": "Python 3",
   "language": "python",
   "name": "python3"
  },
  "language_info": {
   "codemirror_mode": {
    "name": "ipython",
    "version": 3
   },
   "file_extension": ".py",
   "mimetype": "text/x-python",
   "name": "python",
   "nbconvert_exporter": "python",
   "pygments_lexer": "ipython3",
   "version": "3.7.10"
  }
 },
 "nbformat": 4,
 "nbformat_minor": 5
}
