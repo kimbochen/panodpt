{
 "cells": [
  {
   "cell_type": "markdown",
   "id": "4e081406",
   "metadata": {},
   "source": [
    "## Visualize"
   ]
  },
  {
   "cell_type": "code",
   "execution_count": 28,
   "id": "e6b515ed",
   "metadata": {},
   "outputs": [],
   "source": [
    "from functools import partial"
   ]
  },
  {
   "cell_type": "code",
   "execution_count": 1,
   "id": "249e28dc",
   "metadata": {},
   "outputs": [],
   "source": [
    "import torch\n",
    "import matplotlib.pyplot as plt\n",
    "import torchvision.transforms as T"
   ]
  },
  {
   "cell_type": "code",
   "execution_count": 2,
   "id": "7afc631b",
   "metadata": {},
   "outputs": [],
   "source": [
    "from datasets import MP3dDataset\n",
    "from trainer import PanoDPT"
   ]
  },
  {
   "cell_type": "code",
   "execution_count": 3,
   "id": "b3ea8c56",
   "metadata": {},
   "outputs": [],
   "source": [
    "to_gpu = lambda z: z.to('cuda', torch.float16)"
   ]
  },
  {
   "cell_type": "code",
   "execution_count": 29,
   "id": "92a5756b",
   "metadata": {},
   "outputs": [],
   "source": [
    "def to_dmap_gen(z, max_val, min_val, idxs):\n",
    "    z[idxs] = max_val\n",
    "    z = (z - min_val) / (max_val - min_val)\n",
    "    return z"
   ]
  },
  {
   "cell_type": "code",
   "execution_count": 5,
   "id": "6e09de83",
   "metadata": {},
   "outputs": [],
   "source": [
    "model = PanoDPT.load_from_checkpoint('lightning_logs/version_8/checkpoints/epoch=59-step=117479.ckpt')\n",
    "model = to_gpu(model).eval()"
   ]
  },
  {
   "cell_type": "code",
   "execution_count": 39,
   "id": "2b9a5db1",
   "metadata": {},
   "outputs": [],
   "source": [
    "ds = MP3dDataset('val', 288)"
   ]
  },
  {
   "cell_type": "code",
   "execution_count": 40,
   "id": "4b6b52a6",
   "metadata": {},
   "outputs": [],
   "source": [
    "idx = 39\n",
    "x, gt = map(lambda z: z.unsqueeze(0), ds[idx])\n",
    "x, gt = map(to_gpu, (x, gt))\n",
    "pred = model(x)"
   ]
  },
  {
   "cell_type": "code",
   "execution_count": 41,
   "id": "8444f502",
   "metadata": {},
   "outputs": [],
   "source": [
    "pred, gt = map(lambda z: z.detach().squeeze(0), (pred, gt))\n",
    "to_dmap = partial(to_dmap_gen, max_val=gt.max(), min_val=gt.min(), idxs=(gt == 0.0))\n",
    "pred, gt = map(to_dmap, (pred, gt))"
   ]
  },
  {
   "cell_type": "code",
   "execution_count": 42,
   "id": "aef3801a",
   "metadata": {},
   "outputs": [],
   "source": [
    "img_grid = torch.cat([pred, gt], dim=0)\n",
    "img_grid = img_grid.to('cpu', torch.float32)"
   ]
  },
  {
   "cell_type": "code",
   "execution_count": null,
   "id": "a4082039",
   "metadata": {
    "scrolled": false
   },
   "outputs": [],
   "source": [
    "fig, ax = plt.subplots(figsize=[16, 32])\n",
    "ax.imshow(img_grid, cmap='cividis_r')\n",
    "fig.show()"
   ]
  }
 ],
 "metadata": {
  "kernelspec": {
   "display_name": "Python 3",
   "language": "python",
   "name": "python3"
  },
  "language_info": {
   "codemirror_mode": {
    "name": "ipython",
    "version": 3
   },
   "file_extension": ".py",
   "mimetype": "text/x-python",
   "name": "python",
   "nbconvert_exporter": "python",
   "pygments_lexer": "ipython3",
   "version": "3.7.10"
  }
 },
 "nbformat": 4,
 "nbformat_minor": 5
}
