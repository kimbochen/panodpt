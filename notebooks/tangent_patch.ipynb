{
 "cells": [
  {
   "cell_type": "markdown",
   "id": "626b6b12",
   "metadata": {},
   "source": [
    "# Tangent Patch"
   ]
  },
  {
   "cell_type": "code",
   "execution_count": null,
   "id": "cef169fc",
   "metadata": {},
   "outputs": [],
   "source": [
    "import torch\n",
    "import numpy as np\n",
    "import torch.nn.functional as F"
   ]
  },
  {
   "cell_type": "markdown",
   "id": "d28e256f",
   "metadata": {},
   "source": [
    "- model: Conv2d -> Linear(in=256, out=768)\n",
    "- recover depth map: [scatter mean](https://pytorch-scatter.readthedocs.io/en/1.3.0/functions/mean.html)(u, v), visualize and test with rgb\n",
    "- batch grid sample:\n",
    "  - N: number of batches, P: number of patches\n",
    "  - Input: img = N x CHW, grids = N x (P x 16) x 16 x 2\n",
    "  - Output: N x (P x 16) x 16 - reshape -> N x P x 16 x 16"
   ]
  },
  {
   "cell_type": "code",
   "execution_count": null,
   "id": "85a4559e",
   "metadata": {},
   "outputs": [],
   "source": [
    "class ToTangentPatch:\n",
    "    def __init__(self, fov, patch_dim, npatch):\n",
    "        # Create sphereical grid in Cartesian coordinates\n",
    "        assert fov < np.pi and fov > 0.0, f'Invalid FOV: got {fov} rad.'\n",
    "        amp = torch.tan(torch.as_tensor(fov / 2.0, dtype=torch.float32))\n",
    "        tan_ax = torch.linspace(-amp, amp, steps=patch_dim)\n",
    "        tan_y, tan_x = torch.meshgrid(-tan_ax, tan_ax)\n",
    "\n",
    "        # Convert grid to polar coordinates\n",
    "        theta = torch.atan2(tan_x, torch.as_tensor(1.0))\n",
    "        phi = torch.atan2(tan_y, torch.sqrt(tan_x ** 2.0 + 1.0))\n",
    "\n",
    "        # Create rotated grids\n",
    "        u = 2.0 * np.pi * torch.rand(npatch, 1, 1)\n",
    "        v = torch.asin(2.0 * torch.rand(npatch, 1, 1) - 1.0)\n",
    "        theta, phi = theta + u, phi + v\n",
    "        while torch.any(theta > np.pi):\n",
    "            theta[theta > np.pi] -= 2.0 * np.pi\n",
    "        while torch.any(theta < -np.pi):\n",
    "            theta[theta < -np.pi] += 2.0 * np.pi\n",
    "\n",
    "        # Scale grids to [-1, 1]\n",
    "        theta = theta / np.pi\n",
    "        phi = -phi / np.pi * 2.0\n",
    "        self.grid = torch.stack([theta, phi], dim=-1)\n",
    "\n",
    "        self.npd = (npatch, patch_dim)\n",
    "\n",
    "    def __call__(self, x):\n",
    "        grid = self.grid.flatten(0, 1).expand(x.shape[0], -1, -1, -1)\n",
    "        tan_patch = F.grid_sample(x, grid, align_corners=True)  # (N, C, PxD, D)\n",
    "\n",
    "        tan_patch = tan_patch.unflatten(2, self.npd)  # (N, C, P, D, D)\n",
    "        tan_patch = tan_patch.transpose(1, 2)         # (N, P, C, D, D)\n",
    "\n",
    "        return tan_patch"
   ]
  },
  {
   "cell_type": "markdown",
   "id": "b4d2becb",
   "metadata": {},
   "source": [
    "Create grids (theta, phi + offsets u, v)\n",
    "Scale grids to [-1, 1] -> sample image with grids\n",
    "Scale grids to image coordinate [0, 399] x [0, 1023]"
   ]
  },
  {
   "cell_type": "code",
   "execution_count": null,
   "id": "e173ab44",
   "metadata": {},
   "outputs": [],
   "source": [
    "import torchinfo\n",
    "from model import ViTBackbone"
   ]
  },
  {
   "cell_type": "code",
   "execution_count": null,
   "id": "051181f4",
   "metadata": {},
   "outputs": [],
   "source": [
    "model = ViTBackbone([18, 48], dropout=False)\n",
    "torchinfo.summary(model, [1, 3, 16*18, 16*48])"
   ]
  },
  {
   "cell_type": "code",
   "execution_count": null,
   "id": "a51ff91a",
   "metadata": {},
   "outputs": [],
   "source": [
    "torch.manual_seed(3985)\n",
    "N = 256\n",
    "patch_dim = 16"
   ]
  },
  {
   "cell_type": "code",
   "execution_count": null,
   "id": "e0c4aea7",
   "metadata": {},
   "outputs": [],
   "source": [
    "# FOV x number of horizontal patches = a 360 degree view\n",
    "# nhp * (nhp * 400 / 1024) = N -> nhp = sqrt(N / (400 / 1024))\n",
    "fov = 2.0 * np.pi / np.sqrt(N * 1024.0 / 400.0)"
   ]
  },
  {
   "cell_type": "code",
   "execution_count": null,
   "id": "6c963b07",
   "metadata": {},
   "outputs": [],
   "source": [
    "to_tan_patch = ToTangentPatch(fov, patch_dim, N)"
   ]
  },
  {
   "cell_type": "code",
   "execution_count": null,
   "id": "41221a6f",
   "metadata": {},
   "outputs": [],
   "source": [
    "to_tan_patch.grid.shape"
   ]
  },
  {
   "cell_type": "code",
   "execution_count": null,
   "id": "0343b827",
   "metadata": {
    "scrolled": false
   },
   "outputs": [],
   "source": [
    "to_tan_patch.grid[:5, 1, 1, :]"
   ]
  },
  {
   "cell_type": "code",
   "execution_count": null,
   "id": "921d64fd",
   "metadata": {},
   "outputs": [],
   "source": [
    "import torch\n",
    "import numpy as np\n",
    "import torchvision.transforms as T\n",
    "from datasets import MP3dPSP"
   ]
  },
  {
   "cell_type": "code",
   "execution_count": null,
   "id": "34538996",
   "metadata": {},
   "outputs": [],
   "source": [
    "ds = MP3dPSP('val')\n",
    "tensor2pil = T.ToPILImage()"
   ]
  },
  {
   "cell_type": "code",
   "execution_count": null,
   "id": "a1799bb6",
   "metadata": {
    "scrolled": false
   },
   "outputs": [],
   "source": [
    "x = ds[2][0]\n",
    "tensor2pil(x)"
   ]
  },
  {
   "cell_type": "code",
   "execution_count": null,
   "id": "40530b53",
   "metadata": {},
   "outputs": [],
   "source": [
    "xb = x.unsqueeze(0)\n",
    "imgs = to_tan_patch(xb)\n",
    "# imgs = imgs.squeeze(0)"
   ]
  },
  {
   "cell_type": "code",
   "execution_count": null,
   "id": "52ddac56",
   "metadata": {},
   "outputs": [],
   "source": [
    "from torch import nn"
   ]
  },
  {
   "cell_type": "code",
   "execution_count": null,
   "id": "1aa2d679",
   "metadata": {},
   "outputs": [],
   "source": [
    "xx = torch.rand(1, 864, 3, 16, 16)"
   ]
  },
  {
   "cell_type": "code",
   "execution_count": null,
   "id": "18ec464a",
   "metadata": {},
   "outputs": [],
   "source": [
    "class Conv(nn.Module):\n",
    "    def __init__(self):\n",
    "        super().__init__()\n",
    "        self.conv = nn.Conv2d(3, 768, 16)\n",
    "    def forward(self, x):\n",
    "        x = x.squeeze(0)\n",
    "        x = self.conv(x)\n",
    "        x = x.squeeze().unsqueeze(0)\n",
    "        return x\n",
    "\n",
    "conv = Conv()\n",
    "y = conv(xx)"
   ]
  },
  {
   "cell_type": "code",
   "execution_count": null,
   "id": "e5154538",
   "metadata": {},
   "outputs": [],
   "source": [
    "class Lin(nn.Module):\n",
    "    def __init__(self):\n",
    "        super().__init__()\n",
    "        self.lin = nn.Linear(3 * 16 * 16, 768)\n",
    "    def forward(self, x):\n",
    "        x = x.flatten(2)\n",
    "        x = self.lin(x)\n",
    "        return x\n",
    "\n",
    "lin = Lin()\n",
    "z = lin(xx)"
   ]
  },
  {
   "cell_type": "code",
   "execution_count": null,
   "id": "d89e9be4",
   "metadata": {},
   "outputs": [],
   "source": [
    "y.shape, z.shape, torch.allclose(y, z)"
   ]
  },
  {
   "cell_type": "code",
   "execution_count": null,
   "id": "b8d2dbba",
   "metadata": {},
   "outputs": [],
   "source": [
    "# 1, 864, 3, 16, 16 -> 768, 864"
   ]
  },
  {
   "cell_type": "code",
   "execution_count": null,
   "id": "051a28e4",
   "metadata": {},
   "outputs": [],
   "source": [
    "imgs.shape"
   ]
  },
  {
   "cell_type": "code",
   "execution_count": null,
   "id": "8cabe83b",
   "metadata": {},
   "outputs": [],
   "source": [
    "import matplotlib.pyplot as plt\n",
    "rng = np.random.default_rng(3985)"
   ]
  },
  {
   "cell_type": "code",
   "execution_count": null,
   "id": "5b02ca6c",
   "metadata": {},
   "outputs": [],
   "source": [
    "idxs = rng.choice(N, 25)\n",
    "img_np = imgs.permute(0, 2, 3, 1).numpy()"
   ]
  },
  {
   "cell_type": "code",
   "execution_count": null,
   "id": "ba91f973",
   "metadata": {},
   "outputs": [],
   "source": [
    "fig, axs = plt.subplots(5, 5, figsize=[16, 16])\n",
    "for ax, idx in zip(axs.flatten(), idxs):\n",
    "    ax.imshow(img_np[idx])\n",
    "fig.tight_layout()"
   ]
  },
  {
   "cell_type": "markdown",
   "id": "fa516178",
   "metadata": {},
   "source": [
    "## Testing"
   ]
  },
  {
   "cell_type": "code",
   "execution_count": null,
   "id": "c3198de6",
   "metadata": {},
   "outputs": [],
   "source": [
    "def polar_grid(fov, npoint):\n",
    "    amp = torch.tan(fov / 2.0)\n",
    "    tan_ax = torch.linspace(-amp, amp, steps=npoint, dtype=torch.float32)\n",
    "    tan_y, tan_x = torch.meshgrid(-tan_ax, tan_ax)\n",
    "\n",
    "    theta = torch.atan2(tan_x, torch.as_tensor(1.0))\n",
    "    phi = torch.atan2(tan_y, torch.sqrt(tan_x ** 2.0 + 1.0))\n",
    "\n",
    "    return theta, phi\n",
    "\n",
    "def rotate_grid(theta, phi, u, v):\n",
    "    theta, phi = theta + u, phi + v\n",
    "\n",
    "    while torch.any(theta > np.pi):\n",
    "        theta[theta > np.pi] -= 2.0 * np.pi\n",
    "    while torch.any(theta < -np.pi):\n",
    "        theta[theta < -np.pi] += 2.0 * np.pi\n",
    "\n",
    "    return theta, phi\n",
    "\n",
    "def to_sample_range(theta, phi):\n",
    "    theta = theta / np.pi\n",
    "    phi = -phi / np.pi * 2.0\n",
    "    return torch.stack([theta, phi], dim=-1)"
   ]
  },
  {
   "cell_type": "code",
   "execution_count": null,
   "id": "75a0c88e",
   "metadata": {},
   "outputs": [],
   "source": [
    "fov_t = torch.as_tensor(fov)\n",
    "theta, phi = polar_grid(fov_t, patch_dim)"
   ]
  },
  {
   "cell_type": "code",
   "execution_count": null,
   "id": "130b7ef7",
   "metadata": {},
   "outputs": [],
   "source": [
    "u = 2.0 * np.pi * torch.rand(N, 1, 1)\n",
    "v = torch.asin(2.0 * torch.rand(npatch, 1, 1) - 1.0)"
   ]
  },
  {
   "cell_type": "code",
   "execution_count": null,
   "id": "d1b827d7",
   "metadata": {},
   "outputs": [],
   "source": [
    "theta, phi = map(lambda x: x.expand(N, -1, -1), (theta, phi))\n",
    "theta, phi = rotate_grid(theta, phi, u, v)\n",
    "grids = to_sample_range(theta, phi)\n",
    "imgs = F.grid_sample(x.expand(N, -1, -1, -1), grids, align_corners=True)"
   ]
  },
  {
   "cell_type": "markdown",
   "id": "54a086c1",
   "metadata": {},
   "source": [
    "## Uniform Sampling on A Sphere\n",
    "\n",
    "Let $\\theta \\in [-\\pi, \\pi]$, $\\phi \\in [-\\frac{\\pi}{2}, \\frac{\\pi}{2}]$ \n",
    "and the infinitesmal area of a unit sphere $dA = cos \\phi d\\theta \\cdot d\\phi$  \n",
    "\n",
    "The probability of an area being sampled, $g$, is uniform, and $\\int\\int g dA = 1$. \n",
    "Thus, $$g \\int\\int dA = g \\cdot 4\\pi = 1 \\implies g = \\frac{1}{4\\pi}$$  \n",
    "\n",
    "Every $dA$ sampled corresponds to a set of $(\\theta, \\phi)$, \n",
    "whose probability of being sampled is $f(\\theta, \\phi)$, \n",
    "so $$\\frac{1}{4\\pi} dA = \\frac{1}{4\\pi} cos \\phi d\\theta d\\phi = f(\\theta, \\phi) d\\theta d\\phi\n",
    "\\implies f(\\theta, \\phi) = \\frac{1}{4\\pi} cos \\phi$$\n",
    "\n",
    "The probability of $\\theta$ being sampled is\n",
    "$$f(\\theta) = \\int^{\\frac{\\pi}{2}}_{-\\frac{\\pi}{2}} f(\\theta, \\phi) d\\phi\n",
    "            = \\int^{\\frac{\\pi}{2}}_{-\\frac{\\pi}{2}} \\frac{1}{4\\pi} cos \\phi d\\phi\n",
    "            = \\frac{1}{2\\pi}$$\n",
    "\n",
    "The probability of $\\phi$ being sampled is\n",
    "$$f(\\phi) = \\int^{\\pi}_{-\\pi} f(\\theta, \\phi) d\\theta\n",
    "          = \\int^{\\pi}_{-\\pi} \\frac{1}{4\\pi} cos \\phi d\\theta\n",
    "          = \\frac{cos \\phi}{2}$$\n",
    "\n",
    "Using [inverse transform sampling](http://corysimon.github.io/articles/uniformdistn-on-sphere/), \n",
    "we know that $\\phi \\sim F^{-1}(U)$,  \n",
    "where $U$ is a uniform random variable in $[0, 1]$, and $F(\\phi)$ is the probability cumulative function.  \n",
    "Since \n",
    "$$F(\\phi) = \\int^{\\pi}_{-\\pi} f(\\phi) d\\phi\n",
    "          = \\int^{\\pi}_{-\\pi} \\frac{cos \\phi}{2} d\\phi\n",
    "          = \\frac{1}{2} (sin \\phi + 1)$$\n",
    "Hence, \n",
    "$$F^{-1}(\\phi) = arcsin (2 \\phi - 1)$$"
   ]
  },
  {
   "cell_type": "code",
   "execution_count": null,
   "id": "167e7c7f",
   "metadata": {},
   "outputs": [],
   "source": [
    "import torch\n",
    "import numpy as np\n",
    "import plotly.graph_objects as go"
   ]
  },
  {
   "cell_type": "code",
   "execution_count": null,
   "id": "359647b4",
   "metadata": {},
   "outputs": [],
   "source": [
    "torch.manual_seed(3985)\n",
    "N = 500"
   ]
  },
  {
   "cell_type": "code",
   "execution_count": null,
   "id": "18fa5c15",
   "metadata": {},
   "outputs": [],
   "source": [
    "theta = 2.0 * np.pi * torch.rand(N)\n",
    "phi = torch.asin(2.0 * torch.rand(N) - 1.0)"
   ]
  },
  {
   "cell_type": "code",
   "execution_count": null,
   "id": "f5dc8780",
   "metadata": {
    "scrolled": false
   },
   "outputs": [],
   "source": [
    "sphere = go.Scatter3d(\n",
    "    x=torch.sin(phi) * torch.cos(theta),\n",
    "    y=torch.sin(phi) * torch.sin(theta),\n",
    "    z=torch.cos(phi),\n",
    "    mode='markers', marker={'size': 3}\n",
    ")\n",
    "fig = go.Figure(data=[sphere])\n",
    "fig.show()"
   ]
  }
 ],
 "metadata": {
  "kernelspec": {
   "display_name": "Python 3",
   "language": "python",
   "name": "python3"
  },
  "language_info": {
   "codemirror_mode": {
    "name": "ipython",
    "version": 3
   },
   "file_extension": ".py",
   "mimetype": "text/x-python",
   "name": "python",
   "nbconvert_exporter": "python",
   "pygments_lexer": "ipython3",
   "version": "3.7.10"
  }
 },
 "nbformat": 4,
 "nbformat_minor": 5
}
