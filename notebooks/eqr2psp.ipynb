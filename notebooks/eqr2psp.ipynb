{
 "cells": [
  {
   "cell_type": "code",
   "execution_count": 5,
   "id": "7d863dbd",
   "metadata": {},
   "outputs": [],
   "source": [
    "import torch\n",
    "import numpy as np\n",
    "import torchvision.transforms as T\n",
    "from datasets import MP3dPSP\n",
    "from datasets.eqr2psp import e2p"
   ]
  },
  {
   "cell_type": "code",
   "execution_count": 6,
   "id": "a1009a76",
   "metadata": {},
   "outputs": [],
   "source": [
    "tensor2pil = T.ToPILImage()"
   ]
  },
  {
   "cell_type": "code",
   "execution_count": 22,
   "id": "6b258691",
   "metadata": {},
   "outputs": [],
   "source": [
    "ds = MP3dPSP('val')"
   ]
  },
  {
   "cell_type": "code",
   "execution_count": null,
   "id": "c4790c13",
   "metadata": {
    "scrolled": true
   },
   "outputs": [],
   "source": [
    "x, _ = ds[0]\n",
    "tensor2pil(x)"
   ]
  },
  {
   "cell_type": "code",
   "execution_count": null,
   "id": "0a9e1317",
   "metadata": {},
   "outputs": [],
   "source": [
    "fov_deg = (100, 100)\n",
    "u_deg, v_deg = 60, 0\n",
    "out_hw = (256, 256)\n",
    "in_rot_deg = 0\n",
    "psp_img = e2p(x, fov_deg, u_deg, v_deg, out_hw, in_rot_deg)\n",
    "tensor2pil(psp_img)"
   ]
  },
  {
   "cell_type": "code",
   "execution_count": 1,
   "id": "592fc7a3",
   "metadata": {},
   "outputs": [
    {
     "data": {
      "text/plain": [
       "torch.nn.modules.upsampling.Upsample"
      ]
     },
     "execution_count": 1,
     "metadata": {},
     "output_type": "execute_result"
    }
   ],
   "source": [
    "import torch\n",
    "torch.nn.Upsample"
   ]
  },
  {
   "cell_type": "code",
   "execution_count": 1,
   "id": "5491414c",
   "metadata": {},
   "outputs": [],
   "source": [
    "import torch\n",
    "from torchinfo import summary\n",
    "from model.backbone import ViTBackbone"
   ]
  },
  {
   "cell_type": "code",
   "execution_count": 2,
   "id": "6de1fe70",
   "metadata": {},
   "outputs": [],
   "source": [
    "model = ViTBackbone([18, 48], dropout=False).to('cuda:0')"
   ]
  },
  {
   "cell_type": "code",
   "execution_count": 3,
   "id": "6ad0bee2",
   "metadata": {},
   "outputs": [
    {
     "data": {
      "text/plain": [
       "==========================================================================================\n",
       "Layer (type:depth-idx)                   Output Shape              Param #\n",
       "==========================================================================================\n",
       "ViTBackbone                              --                        --\n",
       "├─Normalize: 1-1                         [1, 3, 288, 768]          --\n",
       "├─VisionTransformer: 1                   --                        --\n",
       "│    └─PatchEmbed: 2                     --                        --\n",
       "│    │    └─Conv2d: 3-1                  [1, 768, 18, 48]          590,592\n",
       "├─Upsample: 1-2                          [1, 768, 18, 48]          --\n",
       "├─VisionTransformer: 1                   --                        --\n",
       "│    └─Sequential: 2                     --                        --\n",
       "│    │    └─Block: 3-2                   [1, 865, 768]             7,087,872\n",
       "│    │    └─Block: 3-3                   [1, 865, 768]             7,087,872\n",
       "│    │    └─Block: 3-4                   [1, 865, 768]             7,087,872\n",
       "│    │    └─Block: 3-5                   [1, 865, 768]             7,087,872\n",
       "│    │    └─Block: 3-6                   [1, 865, 768]             7,087,872\n",
       "│    │    └─Block: 3-7                   [1, 865, 768]             7,087,872\n",
       "│    │    └─Block: 3-8                   [1, 865, 768]             7,087,872\n",
       "│    │    └─Block: 3-9                   [1, 865, 768]             7,087,872\n",
       "│    │    └─Block: 3-10                  [1, 865, 768]             7,087,872\n",
       "│    │    └─Block: 3-11                  [1, 865, 768]             7,087,872\n",
       "│    │    └─Block: 3-12                  [1, 865, 768]             7,087,872\n",
       "│    │    └─Block: 3-13                  [1, 865, 768]             7,087,872\n",
       "==========================================================================================\n",
       "Total params: 85,645,056\n",
       "Trainable params: 85,645,056\n",
       "Non-trainable params: 0\n",
       "Total mult-adds (M): 595.33\n",
       "==========================================================================================\n",
       "Input size (MB): 2.65\n",
       "Forward/backward pass size (MB): 706.83\n",
       "Params size (MB): 342.58\n",
       "Estimated Total Size (MB): 1052.06\n",
       "=========================================================================================="
      ]
     },
     "execution_count": 3,
     "metadata": {},
     "output_type": "execute_result"
    }
   ],
   "source": [
    "summary(model, (1, 3, 288, 768))"
   ]
  }
 ],
 "metadata": {
  "kernelspec": {
   "display_name": "Python 3",
   "language": "python",
   "name": "python3"
  },
  "language_info": {
   "codemirror_mode": {
    "name": "ipython",
    "version": 3
   },
   "file_extension": ".py",
   "mimetype": "text/x-python",
   "name": "python",
   "nbconvert_exporter": "python",
   "pygments_lexer": "ipython3",
   "version": "3.7.10"
  }
 },
 "nbformat": 4,
 "nbformat_minor": 5
}
