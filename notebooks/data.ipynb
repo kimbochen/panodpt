{
 "cells": [
  {
   "cell_type": "code",
   "execution_count": 1,
   "id": "f1a6d896",
   "metadata": {},
   "outputs": [],
   "source": [
    "from numpy import pi as PI\n",
    "from data.dataset import MP3D\n",
    "from data.patch_op import ToTangentPatch"
   ]
  },
  {
   "cell_type": "code",
   "execution_count": 2,
   "id": "e4b94d22",
   "metadata": {},
   "outputs": [],
   "source": [
    "ds = MP3D('train', dmax=10.0, crop_h=384)"
   ]
  },
  {
   "cell_type": "code",
   "execution_count": 3,
   "id": "f966621c",
   "metadata": {},
   "outputs": [],
   "source": [
    "tan_patch = ToTangentPatch(fov=9.0*PI/180.0, patch_dim=32, npatch=864, img_h=384, img_w=1024)\n",
    "tan_patch = tan_patch.to('cuda:1')"
   ]
  },
  {
   "cell_type": "code",
   "execution_count": 4,
   "id": "69a58c07",
   "metadata": {},
   "outputs": [],
   "source": [
    "x = ds[0][0].to('cuda:1')\n",
    "img = tan_patch.tan_patch(x.unsqueeze(0))\n",
    "img = tan_patch.scatter2d(img)"
   ]
  },
  {
   "cell_type": "code",
   "execution_count": 5,
   "id": "17c8a8df",
   "metadata": {},
   "outputs": [],
   "source": [
    "import torchvision.transforms as T\n",
    "pilimg = T.ToPILImage()"
   ]
  },
  {
   "cell_type": "code",
   "execution_count": null,
   "id": "baa0fb94",
   "metadata": {},
   "outputs": [],
   "source": [
    "pilimg(img.squeeze(0))"
   ]
  },
  {
   "cell_type": "markdown",
   "id": "bf3cadaf",
   "metadata": {},
   "source": [
    "---"
   ]
  },
  {
   "cell_type": "code",
   "execution_count": 1,
   "id": "6e6cf157",
   "metadata": {},
   "outputs": [],
   "source": [
    "from torchvision.transforms import ToPILImage\n",
    "pilimg = ToPILImage()"
   ]
  },
  {
   "cell_type": "code",
   "execution_count": null,
   "id": "43ba97ae",
   "metadata": {},
   "outputs": [],
   "source": [
    "import trainer\n",
    "from data.dataset import MP3D"
   ]
  },
  {
   "cell_type": "code",
   "execution_count": null,
   "id": "f334b777",
   "metadata": {},
   "outputs": [],
   "source": [
    "ckpt_path = '../lightning_logs/version_0/checkpoints/epoch=119-step=3599.ckpt'\n",
    "pano_dpt = trainer.PanoDPT.load_from_checkpoint(ckpt_path)\n",
    "pano_dpt.eval()"
   ]
  },
  {
   "cell_type": "code",
   "execution_count": null,
   "id": "556e64e3",
   "metadata": {},
   "outputs": [],
   "source": [
    "ds = MP3D(mode='train', dmax=trainer.DMAX, crop_h=trainer.IMG_H)"
   ]
  },
  {
   "cell_type": "code",
   "execution_count": null,
   "id": "26672f49",
   "metadata": {},
   "outputs": [],
   "source": [
    "import matplotlib.pyplot as plt"
   ]
  },
  {
   "cell_type": "code",
   "execution_count": null,
   "id": "b97ae4f5",
   "metadata": {},
   "outputs": [],
   "source": [
    "def to_dmap(img):\n",
    "    img = img.to('cpu').squeeze(0)\n",
    "    img /= img.max()\n",
    "    img[img < 1e-5] = 1.0\n",
    "\n",
    "    fig, ax = plt.subplots(figsize=[16, 32])\n",
    "    ax.imshow(img, cmap='cividis_r')\n",
    "    fig.show()"
   ]
  },
  {
   "cell_type": "code",
   "execution_count": null,
   "id": "853838e7",
   "metadata": {
    "scrolled": false
   },
   "outputs": [],
   "source": [
    "x, gt = ds[5]\n",
    "pilimg(x)"
   ]
  },
  {
   "cell_type": "code",
   "execution_count": null,
   "id": "f4ae30d5",
   "metadata": {},
   "outputs": [],
   "source": [
    "pano_dpt = pano_dpt.to('cuda:1')\n",
    "xb, gtb = map(lambda z: z.unsqueeze(0).to('cuda:1'), (x, gt))"
   ]
  },
  {
   "cell_type": "code",
   "execution_count": null,
   "id": "fbf0735f",
   "metadata": {},
   "outputs": [],
   "source": [
    "import torch"
   ]
  },
  {
   "cell_type": "code",
   "execution_count": null,
   "id": "d4f2cad4",
   "metadata": {
    "scrolled": false
   },
   "outputs": [],
   "source": [
    "with torch.no_grad():\n",
    "    xb_n = pano_dpt.norm(xb)\n",
    "    xb_patch, _ = pano_dpt.tan_patch(xb_n, gtb)\n",
    "    pred = pano_dpt.model(xb_patch)"
   ]
  },
  {
   "cell_type": "code",
   "execution_count": null,
   "id": "1d1fad62",
   "metadata": {},
   "outputs": [],
   "source": [
    "to_dmap(gtb)"
   ]
  },
  {
   "cell_type": "code",
   "execution_count": null,
   "id": "4d7ef7de",
   "metadata": {},
   "outputs": [],
   "source": [
    "to_dmap(pred)"
   ]
  },
  {
   "cell_type": "code",
   "execution_count": null,
   "id": "d48a4729",
   "metadata": {},
   "outputs": [],
   "source": [
    "img = pano_dpt.tan_patch.tan_patch(xb)\n",
    "img = pano_dpt.tan_patch.scatter2d(img)"
   ]
  },
  {
   "cell_type": "code",
   "execution_count": null,
   "id": "95426e11",
   "metadata": {},
   "outputs": [],
   "source": [
    "pilimg(xb[0, ...])"
   ]
  },
  {
   "cell_type": "code",
   "execution_count": null,
   "id": "393c25dd",
   "metadata": {},
   "outputs": [],
   "source": [
    "pilimg(img[0, ...])"
   ]
  },
  {
   "cell_type": "markdown",
   "id": "61cd5291",
   "metadata": {},
   "source": [
    "---"
   ]
  },
  {
   "cell_type": "code",
   "execution_count": null,
   "id": "748339ea",
   "metadata": {},
   "outputs": [],
   "source": [
    "from data.patch_op import *"
   ]
  },
  {
   "cell_type": "code",
   "execution_count": null,
   "id": "668a3211",
   "metadata": {},
   "outputs": [],
   "source": [
    "from numpy import pi as PI"
   ]
  },
  {
   "cell_type": "code",
   "execution_count": null,
   "id": "28eef77f",
   "metadata": {},
   "outputs": [],
   "source": [
    "from torch import nn"
   ]
  },
  {
   "cell_type": "code",
   "execution_count": null,
   "id": "41bb1466",
   "metadata": {},
   "outputs": [],
   "source": [
    "class M(nn.Module):\n",
    "    def __init__(self):\n",
    "        super().__init__()\n",
    "        x_grid, y_grid = polar_coord_grid(5*PI/180, 16, 864)\n",
    "        self.tan_patch = TangentPatch(x_grid, y_grid)\n",
    "    def __call__(self, xb):\n",
    "        xb = self.tan_patch(xb)\n",
    "        return xb"
   ]
  },
  {
   "cell_type": "code",
   "execution_count": null,
   "id": "80558a16",
   "metadata": {},
   "outputs": [],
   "source": [
    "m = M()"
   ]
  },
  {
   "cell_type": "code",
   "execution_count": null,
   "id": "66067b39",
   "metadata": {},
   "outputs": [],
   "source": [
    "import torch\n",
    "x = torch.rand(1, 3, 400, 1024, device='cuda:0')\n",
    "m = m.to('cuda:0')\n",
    "z = m(x)"
   ]
  },
  {
   "cell_type": "markdown",
   "id": "26362801",
   "metadata": {},
   "source": [
    "---"
   ]
  },
  {
   "cell_type": "code",
   "execution_count": null,
   "id": "acdc7912",
   "metadata": {},
   "outputs": [],
   "source": [
    "%load_ext autoreload\n",
    "%autoreload 2"
   ]
  },
  {
   "cell_type": "code",
   "execution_count": null,
   "id": "07401bc4",
   "metadata": {},
   "outputs": [],
   "source": [
    "import torchvision.transforms as T\n",
    "pilimg = T.ToPILImage()"
   ]
  },
  {
   "cell_type": "code",
   "execution_count": null,
   "id": "45c4f916",
   "metadata": {},
   "outputs": [],
   "source": [
    "from data.dataset import MP3D\n",
    "ds = MP3D(mode='train', dmax=10, crop_h=400)"
   ]
  },
  {
   "cell_type": "code",
   "execution_count": null,
   "id": "f241838d",
   "metadata": {},
   "outputs": [],
   "source": [
    "ds[0][0].shape"
   ]
  },
  {
   "cell_type": "code",
   "execution_count": null,
   "id": "b8f85f35",
   "metadata": {},
   "outputs": [],
   "source": [
    "x, y = ds[0]\n",
    "pilimg(x)"
   ]
  },
  {
   "cell_type": "code",
   "execution_count": null,
   "id": "26e7ceb1",
   "metadata": {},
   "outputs": [],
   "source": [
    "from functools import partial\n",
    "from torch.utils.data import DataLoader"
   ]
  },
  {
   "cell_type": "code",
   "execution_count": null,
   "id": "7318e1ba",
   "metadata": {},
   "outputs": [],
   "source": [
    "dl = partial(DataLoader, batch_size=4, num_workers=4, pin_memory=True)\n",
    "train_dl = dl(MP3D('train', dmax=10, crop_h=400))"
   ]
  },
  {
   "cell_type": "code",
   "execution_count": null,
   "id": "2be39c22",
   "metadata": {},
   "outputs": [],
   "source": [
    "xb, yb = next(iter(train_dl))\n",
    "xb.shape"
   ]
  }
 ],
 "metadata": {
  "kernelspec": {
   "display_name": "Python 3",
   "language": "python",
   "name": "python3"
  },
  "language_info": {
   "codemirror_mode": {
    "name": "ipython",
    "version": 3
   },
   "file_extension": ".py",
   "mimetype": "text/x-python",
   "name": "python",
   "nbconvert_exporter": "python",
   "pygments_lexer": "ipython3",
   "version": "3.7.10"
  }
 },
 "nbformat": 4,
 "nbformat_minor": 5
}
