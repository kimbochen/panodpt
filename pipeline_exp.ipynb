{
 "cells": [
  {
   "cell_type": "code",
   "execution_count": 1,
   "id": "1c0bddd6",
   "metadata": {},
   "outputs": [],
   "source": [
    "import torchvision.transforms as T\n",
    "from pipeline import pipeline"
   ]
  },
  {
   "cell_type": "code",
   "execution_count": 2,
   "id": "07b64e3d",
   "metadata": {},
   "outputs": [],
   "source": [
    "pilimg = T.ToPILImage()\n",
    "gt = pipeline()"
   ]
  },
  {
   "cell_type": "code",
   "execution_count": 4,
   "id": "0b3fb5af",
   "metadata": {},
   "outputs": [
    {
     "data": {
      "text/plain": [
       "torch.Size([4, 3, 864, 16, 16])"
      ]
     },
     "execution_count": 4,
     "metadata": {},
     "output_type": "execute_result"
    }
   ],
   "source": [
    "gt"
   ]
  },
  {
   "cell_type": "code",
   "execution_count": null,
   "id": "d14b17f9",
   "metadata": {},
   "outputs": [],
   "source": [
    "pilimg(gt[0, None, ...])"
   ]
  },
  {
   "cell_type": "code",
   "execution_count": 10,
   "id": "efb9b35f",
   "metadata": {},
   "outputs": [],
   "source": [
    "import torch\n",
    "from torchinfo import summary\n",
    "from model import ViTBackbone, ConvDecoder"
   ]
  },
  {
   "cell_type": "code",
   "execution_count": 5,
   "id": "cb709ecf",
   "metadata": {},
   "outputs": [
    {
     "data": {
      "text/plain": [
       "==========================================================================================\n",
       "Layer (type:depth-idx)                   Output Shape              Param #\n",
       "==========================================================================================\n",
       "ViTBackbone                              --                        --\n",
       "├─PatchEmbed: 1-1                        [1, 864, 768]             --\n",
       "│    └─Linear: 2-1                       [1, 864, 768]             590,592\n",
       "├─Upsample: 1-2                          [1, 768, 864]             --\n",
       "├─VisionTransformer: 1                   --                        --\n",
       "│    └─Sequential: 2                     --                        --\n",
       "│    │    └─Block: 3-1                   [1, 865, 768]             7,087,872\n",
       "│    │    └─Block: 3-2                   [1, 865, 768]             7,087,872\n",
       "│    │    └─Block: 3-3                   [1, 865, 768]             7,087,872\n",
       "│    │    └─Block: 3-4                   [1, 865, 768]             7,087,872\n",
       "│    │    └─Block: 3-5                   [1, 865, 768]             7,087,872\n",
       "│    │    └─Block: 3-6                   [1, 865, 768]             7,087,872\n",
       "│    │    └─Block: 3-7                   [1, 865, 768]             7,087,872\n",
       "│    │    └─Block: 3-8                   [1, 865, 768]             7,087,872\n",
       "│    │    └─Block: 3-9                   [1, 865, 768]             7,087,872\n",
       "│    │    └─Block: 3-10                  [1, 865, 768]             7,087,872\n",
       "│    │    └─Block: 3-11                  [1, 865, 768]             7,087,872\n",
       "│    │    └─Block: 3-12                  [1, 865, 768]             7,087,872\n",
       "==========================================================================================\n",
       "Total params: 85,645,056\n",
       "Trainable params: 85,645,056\n",
       "Non-trainable params: 0\n",
       "Total mult-adds (M): 85.65\n",
       "==========================================================================================\n",
       "Input size (MB): 2.65\n",
       "Forward/backward pass size (MB): 706.83\n",
       "Params size (MB): 342.58\n",
       "Estimated Total Size (MB): 1052.06\n",
       "=========================================================================================="
      ]
     },
     "execution_count": 5,
     "metadata": {},
     "output_type": "execute_result"
    }
   ],
   "source": [
    "model = ViTBackbone(864, dropout=False)\n",
    "summary(model, [1, 3, 864, 16, 16])"
   ]
  },
  {
   "cell_type": "code",
   "execution_count": 13,
   "id": "5e8d6682",
   "metadata": {},
   "outputs": [],
   "source": [
    "model = ConvDecoder([18, 48])"
   ]
  },
  {
   "cell_type": "code",
   "execution_count": 14,
   "id": "1f397898",
   "metadata": {},
   "outputs": [
    {
     "data": {
      "text/plain": [
       "==========================================================================================\n",
       "Layer (type:depth-idx)                   Output Shape              Param #\n",
       "==========================================================================================\n",
       "Reassemble                               --                        --\n",
       "├─ReadoutProject: 1-1                    [1, 864, 768]             --\n",
       "│    └─Sequential: 2-1                   [1, 864, 768]             --\n",
       "│    │    └─Linear: 3-1                  [1, 864, 768]             1,180,416\n",
       "│    │    └─GELU: 3-2                    [1, 864, 768]             --\n",
       "├─Unflatten: 1-2                         [1, 768, 18, 48]          --\n",
       "├─Conv2d: 1-3                            [1, 96, 18, 48]           73,824\n",
       "├─Sequential: 1-4                        [1, 256, 72, 192]         --\n",
       "│    └─ConvTranspose2d: 2-2              [1, 96, 72, 192]          147,552\n",
       "│    └─Conv2d: 2-3                       [1, 256, 72, 192]         221,440\n",
       "==========================================================================================\n",
       "Total params: 1,623,232\n",
       "Trainable params: 1,623,232\n",
       "Non-trainable params: 0\n",
       "Total mult-adds (G): 5.17\n",
       "==========================================================================================\n",
       "Input size (MB): 2.66\n",
       "Forward/backward pass size (MB): 44.90\n",
       "Params size (MB): 6.49\n",
       "Estimated Total Size (MB): 54.05\n",
       "=========================================================================================="
      ]
     },
     "execution_count": 14,
     "metadata": {},
     "output_type": "execute_result"
    }
   ],
   "source": [
    "summary(model.reass[0], [1, 865, 768])"
   ]
  },
  {
   "cell_type": "code",
   "execution_count": 16,
   "id": "aa172347",
   "metadata": {},
   "outputs": [
    {
     "data": {
      "text/plain": [
       "==========================================================================================\n",
       "Layer (type:depth-idx)                   Output Shape              Param #\n",
       "==========================================================================================\n",
       "Reassemble                               --                        --\n",
       "├─ReadoutProject: 1-1                    [1, 864, 768]             --\n",
       "│    └─Sequential: 2-1                   [1, 864, 768]             --\n",
       "│    │    └─Linear: 3-1                  [1, 864, 768]             1,180,416\n",
       "│    │    └─GELU: 3-2                    [1, 864, 768]             --\n",
       "├─Unflatten: 1-2                         [1, 768, 18, 48]          --\n",
       "├─Conv2d: 1-3                            [1, 192, 18, 48]          147,648\n",
       "├─Sequential: 1-4                        [1, 256, 36, 96]          --\n",
       "│    └─ConvTranspose2d: 2-2              [1, 192, 36, 96]          147,648\n",
       "│    └─Conv2d: 2-3                       [1, 256, 36, 96]          442,624\n",
       "==========================================================================================\n",
       "Total params: 1,918,336\n",
       "Trainable params: 1,918,336\n",
       "Non-trainable params: 0\n",
       "Total mult-adds (G): 2.17\n",
       "==========================================================================================\n",
       "Input size (MB): 2.66\n",
       "Forward/backward pass size (MB): 19.02\n",
       "Params size (MB): 7.67\n",
       "Estimated Total Size (MB): 29.35\n",
       "=========================================================================================="
      ]
     },
     "execution_count": 16,
     "metadata": {},
     "output_type": "execute_result"
    }
   ],
   "source": [
    "summary(model.reass[1], [1, 865, 768])"
   ]
  },
  {
   "cell_type": "code",
   "execution_count": 17,
   "id": "42e496f5",
   "metadata": {},
   "outputs": [
    {
     "data": {
      "text/plain": [
       "==========================================================================================\n",
       "Layer (type:depth-idx)                   Output Shape              Param #\n",
       "==========================================================================================\n",
       "Reassemble                               --                        --\n",
       "├─ReadoutProject: 1-1                    [1, 864, 768]             --\n",
       "│    └─Sequential: 2-1                   [1, 864, 768]             --\n",
       "│    │    └─Linear: 3-1                  [1, 864, 768]             1,180,416\n",
       "│    │    └─GELU: 3-2                    [1, 864, 768]             --\n",
       "├─Unflatten: 1-2                         [1, 768, 18, 48]          --\n",
       "├─Conv2d: 1-3                            [1, 384, 18, 48]          295,296\n",
       "├─Sequential: 1-4                        [1, 256, 18, 48]          --\n",
       "│    └─Identity: 2-2                     [1, 384, 18, 48]          --\n",
       "│    └─Conv2d: 2-3                       [1, 256, 18, 48]          884,992\n",
       "==========================================================================================\n",
       "Total params: 2,360,704\n",
       "Trainable params: 2,360,704\n",
       "Non-trainable params: 0\n",
       "Total mult-adds (G): 1.02\n",
       "==========================================================================================\n",
       "Input size (MB): 2.66\n",
       "Forward/backward pass size (MB): 9.73\n",
       "Params size (MB): 9.44\n",
       "Estimated Total Size (MB): 21.83\n",
       "=========================================================================================="
      ]
     },
     "execution_count": 17,
     "metadata": {},
     "output_type": "execute_result"
    }
   ],
   "source": [
    "summary(model.reass[2], [1, 865, 768])"
   ]
  },
  {
   "cell_type": "code",
   "execution_count": 18,
   "id": "3517143c",
   "metadata": {},
   "outputs": [
    {
     "data": {
      "text/plain": [
       "==========================================================================================\n",
       "Layer (type:depth-idx)                   Output Shape              Param #\n",
       "==========================================================================================\n",
       "Reassemble                               --                        --\n",
       "├─ReadoutProject: 1-1                    [1, 864, 768]             --\n",
       "│    └─Sequential: 2-1                   [1, 864, 768]             --\n",
       "│    │    └─Linear: 3-1                  [1, 864, 768]             1,180,416\n",
       "│    │    └─GELU: 3-2                    [1, 864, 768]             --\n",
       "├─Unflatten: 1-2                         [1, 768, 18, 48]          --\n",
       "├─Conv2d: 1-3                            [1, 768, 18, 48]          590,592\n",
       "├─Sequential: 1-4                        [1, 256, 9, 24]           --\n",
       "│    └─Conv2d: 2-2                       [1, 768, 9, 24]           5,309,184\n",
       "│    └─Conv2d: 2-3                       [1, 256, 9, 24]           1,769,728\n",
       "==========================================================================================\n",
       "Total params: 8,849,920\n",
       "Trainable params: 8,849,920\n",
       "Non-trainable params: 0\n",
       "Total mult-adds (G): 2.04\n",
       "==========================================================================================\n",
       "Input size (MB): 2.66\n",
       "Forward/backward pass size (MB): 12.39\n",
       "Params size (MB): 35.40\n",
       "Estimated Total Size (MB): 50.44\n",
       "=========================================================================================="
      ]
     },
     "execution_count": 18,
     "metadata": {},
     "output_type": "execute_result"
    }
   ],
   "source": [
    "summary(model.reass[3], [1, 865, 768])"
   ]
  },
  {
   "cell_type": "code",
   "execution_count": 20,
   "id": "26299b6c",
   "metadata": {},
   "outputs": [
    {
     "data": {
      "text/plain": [
       "(24, 64)"
      ]
     },
     "execution_count": 20,
     "metadata": {},
     "output_type": "execute_result"
    }
   ],
   "source": [
    "384 // 16, 1024 // 16"
   ]
  }
 ],
 "metadata": {
  "kernelspec": {
   "display_name": "Python 3",
   "language": "python",
   "name": "python3"
  },
  "language_info": {
   "codemirror_mode": {
    "name": "ipython",
    "version": 3
   },
   "file_extension": ".py",
   "mimetype": "text/x-python",
   "name": "python",
   "nbconvert_exporter": "python",
   "pygments_lexer": "ipython3",
   "version": "3.7.10"
  }
 },
 "nbformat": 4,
 "nbformat_minor": 5
}
